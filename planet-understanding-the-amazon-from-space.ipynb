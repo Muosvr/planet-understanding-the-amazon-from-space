{
 "cells": [
  {
   "cell_type": "code",
   "execution_count": 11,
   "metadata": {},
   "outputs": [],
   "source": [
    "%reload_ext autoreload\n",
    "%autoreload 2\n",
    "%matplotlib inline\n",
    "\n",
    "import sys\n",
    "sys.path.append(\"../../../fastai/\")\n",
    "\n",
    "from fastai.imports import *\n",
    "from fastai.transforms  import *\n",
    "from fastai.conv_learner import *\n",
    "from fastai.model import *\n",
    "from fastai.dataset import *\n",
    "from fastai.sgdr import *\n",
    "from fastai.plots import *"
   ]
  },
  {
   "cell_type": "code",
   "execution_count": 12,
   "metadata": {},
   "outputs": [],
   "source": [
    "PATH = ''\n",
    "sz = 224\n",
    "f_model = resnet34\n",
    "bs = 128"
   ]
  },
  {
   "cell_type": "code",
   "execution_count": 13,
   "metadata": {},
   "outputs": [
    {
     "name": "stdout",
     "output_type": "stream",
     "text": [
      "\u001b[0m\u001b[01;34m__MACOSX\u001b[0m/                                         \u001b[01;34mtrain-jpg\u001b[0m/\r\n",
      "planet-understanding-the-amazon-from-space.ipynb  \u001b[01;31mtrain-jpg.tar\u001b[0m\r\n",
      "\u001b[01;34mtest-jpg\u001b[0m/                                         \u001b[01;31mtrain-jpg.tar.7z\u001b[0m\r\n",
      "\u001b[01;31mtest-jpg.tar\u001b[0m                                      train_v2.csv\r\n",
      "\u001b[01;31mtest-jpg.tar.7z\u001b[0m                                   \u001b[01;31mtrain_v2.csv.zip\u001b[0m\r\n",
      "\u001b[01;34mtmp\u001b[0m/\r\n"
     ]
    }
   ],
   "source": [
    "ls {PATH}"
   ]
  },
  {
   "cell_type": "code",
   "execution_count": 14,
   "metadata": {},
   "outputs": [],
   "source": [
    "label_csv=f'{PATH}train_v2.csv'\n",
    "n = len(list(open(label_csv)))-1\n",
    "val_idxs = get_cv_idxs(n)"
   ]
  },
  {
   "cell_type": "code",
   "execution_count": 15,
   "metadata": {},
   "outputs": [
    {
     "data": {
      "text/plain": [
       "40479"
      ]
     },
     "execution_count": 15,
     "metadata": {},
     "output_type": "execute_result"
    }
   ],
   "source": [
    "n"
   ]
  },
  {
   "cell_type": "code",
   "execution_count": 16,
   "metadata": {},
   "outputs": [
    {
     "data": {
      "text/html": [
       "<div>\n",
       "<style scoped>\n",
       "    .dataframe tbody tr th:only-of-type {\n",
       "        vertical-align: middle;\n",
       "    }\n",
       "\n",
       "    .dataframe tbody tr th {\n",
       "        vertical-align: top;\n",
       "    }\n",
       "\n",
       "    .dataframe thead th {\n",
       "        text-align: right;\n",
       "    }\n",
       "</style>\n",
       "<table border=\"1\" class=\"dataframe\">\n",
       "  <thead>\n",
       "    <tr style=\"text-align: right;\">\n",
       "      <th></th>\n",
       "      <th>image_name</th>\n",
       "      <th>tags</th>\n",
       "    </tr>\n",
       "  </thead>\n",
       "  <tbody>\n",
       "    <tr>\n",
       "      <th>0</th>\n",
       "      <td>train_0</td>\n",
       "      <td>haze primary</td>\n",
       "    </tr>\n",
       "    <tr>\n",
       "      <th>1</th>\n",
       "      <td>train_1</td>\n",
       "      <td>agriculture clear primary water</td>\n",
       "    </tr>\n",
       "    <tr>\n",
       "      <th>2</th>\n",
       "      <td>train_2</td>\n",
       "      <td>clear primary</td>\n",
       "    </tr>\n",
       "    <tr>\n",
       "      <th>3</th>\n",
       "      <td>train_3</td>\n",
       "      <td>clear primary</td>\n",
       "    </tr>\n",
       "    <tr>\n",
       "      <th>4</th>\n",
       "      <td>train_4</td>\n",
       "      <td>agriculture clear habitation primary road</td>\n",
       "    </tr>\n",
       "  </tbody>\n",
       "</table>\n",
       "</div>"
      ],
      "text/plain": [
       "  image_name                                       tags\n",
       "0    train_0                               haze primary\n",
       "1    train_1            agriculture clear primary water\n",
       "2    train_2                              clear primary\n",
       "3    train_3                              clear primary\n",
       "4    train_4  agriculture clear habitation primary road"
      ]
     },
     "execution_count": 16,
     "metadata": {},
     "output_type": "execute_result"
    }
   ],
   "source": [
    "label_df=pd.read_csv(label_csv)\n",
    "label_df.head()"
   ]
  },
  {
   "cell_type": "code",
   "execution_count": 33,
   "metadata": {},
   "outputs": [],
   "source": [
    "def get_data(sz):\n",
    "    tfms = tfms_from_model(f_model,sz,aug_tfms=transforms_top_down, max_zoom=1.05)\n",
    "    return ImageClassifierData.from_csv(PATH, 'train-jpg', label_csv, tfms=tfms, \n",
    "                  suffix='.jpg', val_idxs=val_idxs, test_name='test-jpg')\n",
    "#batch size not set here"
   ]
  },
  {
   "cell_type": "code",
   "execution_count": 34,
   "metadata": {},
   "outputs": [],
   "source": [
    "data = get_data(256)"
   ]
  },
  {
   "cell_type": "code",
   "execution_count": 19,
   "metadata": {},
   "outputs": [
    {
     "data": {
      "text/plain": [
       "'train-jpg/train_0.jpg'"
      ]
     },
     "execution_count": 19,
     "metadata": {},
     "output_type": "execute_result"
    }
   ],
   "source": [
    "fn = PATH+data.trn_ds.fnames[0]; fn"
   ]
  },
  {
   "cell_type": "code",
   "execution_count": 20,
   "metadata": {},
   "outputs": [],
   "source": [
    "x,y = next(iter(data.val_dl))"
   ]
  },
  {
   "cell_type": "code",
   "execution_count": 21,
   "metadata": {},
   "outputs": [
    {
     "data": {
      "text/plain": [
       "\n",
       "    1     0     0  ...      0     0     1\n",
       "    0     0     0  ...      0     0     0\n",
       "    1     0     0  ...      0     0     0\n",
       "       ...          ⋱          ...       \n",
       "    1     0     0  ...      0     0     1\n",
       "    0     0     0  ...      0     0     0\n",
       "    0     0     0  ...      0     0     1\n",
       "[torch.cuda.FloatTensor of size 64x17 (GPU 0)]"
      ]
     },
     "execution_count": 21,
     "metadata": {},
     "output_type": "execute_result"
    }
   ],
   "source": [
    "y"
   ]
  },
  {
   "cell_type": "code",
   "execution_count": 22,
   "metadata": {},
   "outputs": [
    {
     "data": {
      "text/plain": [
       "[('agriculture', 1.0),\n",
       " ('artisinal_mine', 0.0),\n",
       " ('bare_ground', 0.0),\n",
       " ('blooming', 0.0),\n",
       " ('blow_down', 0.0),\n",
       " ('clear', 1.0),\n",
       " ('cloudy', 0.0),\n",
       " ('conventional_mine', 0.0),\n",
       " ('cultivation', 0.0),\n",
       " ('habitation', 0.0),\n",
       " ('haze', 0.0),\n",
       " ('partly_cloudy', 0.0),\n",
       " ('primary', 1.0),\n",
       " ('road', 0.0),\n",
       " ('selective_logging', 0.0),\n",
       " ('slash_burn', 0.0),\n",
       " ('water', 1.0)]"
      ]
     },
     "execution_count": 22,
     "metadata": {},
     "output_type": "execute_result"
    }
   ],
   "source": [
    "list(zip(data.classes, y[0]))"
   ]
  },
  {
   "cell_type": "code",
   "execution_count": 23,
   "metadata": {},
   "outputs": [
    {
     "data": {
      "text/plain": [
       "<matplotlib.image.AxesImage at 0x7f6d48b595c0>"
      ]
     },
     "execution_count": 23,
     "metadata": {},
     "output_type": "execute_result"
    },
    {
     "data": {
      "image/png": "[encoded data removed]",
      "text/plain": [
       "<matplotlib.figure.Figure at 0x7f6d49f6f630>"
      ]
     },
     "metadata": {},
     "output_type": "display_data"
    }
   ],
   "source": [
    "plt.imshow(data.val_ds.denorm(to_np(x))[2]) #??"
   ]
  },
  {
   "cell_type": "code",
   "execution_count": 24,
   "metadata": {},
   "outputs": [],
   "source": [
    "sz = 64"
   ]
  },
  {
   "cell_type": "code",
   "execution_count": 25,
   "metadata": {},
   "outputs": [],
   "source": [
    "data = get_data(sz)"
   ]
  },
  {
   "cell_type": "code",
   "execution_count": 26,
   "metadata": {},
   "outputs": [
    {
     "data": {
      "application/vnd.jupyter.widget-view+json": {
       "model_id": "7697c458999846fa9755775ad6bdb5d3",
       "version_major": 2,
       "version_minor": 0
      },
      "text/html": [
       "<p>Failed to display Jupyter Widget of type <code>HBox</code>.</p>\n",
       "<p>\n",
       "  If you're reading this message in the Jupyter Notebook or JupyterLab Notebook, it may mean\n",
       "  that the widgets JavaScript is still loading. If this message persists, it\n",
       "  likely means that the widgets JavaScript library is either not installed or\n",
       "  not enabled. See the <a href=\"https://ipywidgets.readthedocs.io/en/stable/user_install.html\">Jupyter\n",
       "  Widgets Documentation</a> for setup instructions.\n",
       "</p>\n",
       "<p>\n",
       "  If you're reading this message in another frontend (for example, a static\n",
       "  rendering on GitHub or <a href=\"https://nbviewer.jupyter.org/\">NBViewer</a>),\n",
       "  it may mean that your frontend doesn't currently support widgets.\n",
       "</p>\n"
      ],
      "text/plain": [
       "HBox(children=(IntProgress(value=0, max=6), HTML(value='')))"
      ]
     },
     "metadata": {},
     "output_type": "display_data"
    },
    {
     "name": "stdout",
     "output_type": "stream",
     "text": [
      "\n"
     ]
    }
   ],
   "source": [
    "data = data.resize(int(sz*1.3), 'tmp')"
   ]
  },
  {
   "cell_type": "code",
   "execution_count": 27,
   "metadata": {},
   "outputs": [],
   "source": [
    "learn = ConvLearner.pretrained(f_model, data)"
   ]
  },
  {
   "cell_type": "code",
   "execution_count": 18,
   "metadata": {},
   "outputs": [
    {
     "data": {
      "application/vnd.jupyter.widget-view+json": {
       "model_id": "b814e543ecb441dda3286ef50fdc6de3",
       "version_major": 2,
       "version_minor": 0
      },
      "text/html": [
       "<p>Failed to display Jupyter Widget of type <code>HBox</code>.</p>\n",
       "<p>\n",
       "  If you're reading this message in the Jupyter Notebook or JupyterLab Notebook, it may mean\n",
       "  that the widgets JavaScript is still loading. If this message persists, it\n",
       "  likely means that the widgets JavaScript library is either not installed or\n",
       "  not enabled. See the <a href=\"https://ipywidgets.readthedocs.io/en/stable/user_install.html\">Jupyter\n",
       "  Widgets Documentation</a> for setup instructions.\n",
       "</p>\n",
       "<p>\n",
       "  If you're reading this message in another frontend (for example, a static\n",
       "  rendering on GitHub or <a href=\"https://nbviewer.jupyter.org/\">NBViewer</a>),\n",
       "  it may mean that your frontend doesn't currently support widgets.\n",
       "</p>\n"
      ],
      "text/plain": [
       "HBox(children=(IntProgress(value=0, description='Epoch', max=1), HTML(value='')))"
      ]
     },
     "metadata": {},
     "output_type": "display_data"
    },
    {
     "name": "stdout",
     "output_type": "stream",
     "text": [
      "epoch      trn_loss   val_loss   <lambda>                    \n",
      "    0      0.224377   0.310743   0.914166  \n",
      "\n"
     ]
    }
   ],
   "source": [
    "lrf=learn.lr_find()"
   ]
  },
  {
   "cell_type": "code",
   "execution_count": 19,
   "metadata": {},
   "outputs": [
    {
     "data": {
      "image/png": "[encoded data removed]",
      "text/plain": [
       "<matplotlib.figure.Figure at 0x7f2a83bd86d8>"
      ]
     },
     "metadata": {},
     "output_type": "display_data"
    }
   ],
   "source": [
    "learn.sched.plot()"
   ]
  },
  {
   "cell_type": "code",
   "execution_count": 20,
   "metadata": {},
   "outputs": [],
   "source": [
    "lr = 0.2"
   ]
  },
  {
   "cell_type": "code",
   "execution_count": 75,
   "metadata": {
    "scrolled": true
   },
   "outputs": [
    {
     "data": {
      "application/vnd.jupyter.widget-view+json": {
       "model_id": "1e68e806089a4218bb45adb62c18fb48",
       "version_major": 2,
       "version_minor": 0
      },
      "text/html": [
       "<p>Failed to display Jupyter Widget of type <code>HBox</code>.</p>\n",
       "<p>\n",
       "  If you're reading this message in the Jupyter Notebook or JupyterLab Notebook, it may mean\n",
       "  that the widgets JavaScript is still loading. If this message persists, it\n",
       "  likely means that the widgets JavaScript library is either not installed or\n",
       "  not enabled. See the <a href=\"https://ipywidgets.readthedocs.io/en/stable/user_install.html\">Jupyter\n",
       "  Widgets Documentation</a> for setup instructions.\n",
       "</p>\n",
       "<p>\n",
       "  If you're reading this message in another frontend (for example, a static\n",
       "  rendering on GitHub or <a href=\"https://nbviewer.jupyter.org/\">NBViewer</a>),\n",
       "  it may mean that your frontend doesn't currently support widgets.\n",
       "</p>\n"
      ],
      "text/plain": [
       "HBox(children=(IntProgress(value=0, description='Epoch', max=7), HTML(value='')))"
      ]
     },
     "metadata": {},
     "output_type": "display_data"
    },
    {
     "name": "stdout",
     "output_type": "stream",
     "text": [
      "epoch      trn_loss   val_loss   <lambda>                    \n",
      "    0      0.139152   0.127496   0.94941   \n",
      "    1      0.136617   0.125872   0.95018                     \n",
      "    2      0.134203   0.124628   0.950594                    \n",
      "    3      0.137813   0.125226   0.950064                    \n",
      "    4      0.132105   0.122887   0.951401                    \n",
      "    5      0.128226   0.122166   0.951386                    \n",
      "    6      0.130269   0.121873   0.951728                    \n",
      "\n"
     ]
    },
    {
     "data": {
      "text/plain": [
       "[array([ 0.12187]), 0.95172764341944605]"
      ]
     },
     "execution_count": 75,
     "metadata": {},
     "output_type": "execute_result"
    }
   ],
   "source": [
    "learn.fit(lr, 3, cycle_len=1, cycle_mult=2)"
   ]
  },
  {
   "cell_type": "code",
   "execution_count": 76,
   "metadata": {},
   "outputs": [],
   "source": [
    "lrs = np.array([lr/9,lr/3,lr])"
   ]
  },
  {
   "cell_type": "code",
   "execution_count": 78,
   "metadata": {},
   "outputs": [
    {
     "data": {
      "application/vnd.jupyter.widget-view+json": {
       "model_id": "9486593bda9f4483a4714728d97358f8",
       "version_major": 2,
       "version_minor": 0
      },
      "text/html": [
       "<p>Failed to display Jupyter Widget of type <code>HBox</code>.</p>\n",
       "<p>\n",
       "  If you're reading this message in the Jupyter Notebook or JupyterLab Notebook, it may mean\n",
       "  that the widgets JavaScript is still loading. If this message persists, it\n",
       "  likely means that the widgets JavaScript library is either not installed or\n",
       "  not enabled. See the <a href=\"https://ipywidgets.readthedocs.io/en/stable/user_install.html\">Jupyter\n",
       "  Widgets Documentation</a> for setup instructions.\n",
       "</p>\n",
       "<p>\n",
       "  If you're reading this message in another frontend (for example, a static\n",
       "  rendering on GitHub or <a href=\"https://nbviewer.jupyter.org/\">NBViewer</a>),\n",
       "  it may mean that your frontend doesn't currently support widgets.\n",
       "</p>\n"
      ],
      "text/plain": [
       "HBox(children=(IntProgress(value=0, description='Epoch', max=7), HTML(value='')))"
      ]
     },
     "metadata": {},
     "output_type": "display_data"
    },
    {
     "name": "stdout",
     "output_type": "stream",
     "text": [
      "epoch      trn_loss   val_loss   <lambda>                    \n",
      "    0      0.120486   0.110625   0.956313  \n",
      "    1      0.117872   0.105238   0.958122                    \n",
      "    2      0.108271   0.101328   0.960419                    \n",
      "    3      0.110102   0.102852   0.959343                    \n",
      "    4      0.1073     0.101432   0.96023                     \n",
      "    5      0.099541   0.097803   0.96185                      \n",
      "    6      0.099548   0.098073   0.961545                     \n",
      "\n"
     ]
    },
    {
     "data": {
      "text/plain": [
       "[array([ 0.09807]), 0.96154489030508139]"
      ]
     },
     "execution_count": 78,
     "metadata": {},
     "output_type": "execute_result"
    }
   ],
   "source": [
    "learn.unfreeze()\n",
    "learn.fit(lrs, 3, cycle_len=1, cycle_mult=2)"
   ]
  },
  {
   "cell_type": "code",
   "execution_count": 79,
   "metadata": {},
   "outputs": [],
   "source": [
    "learn.save(f'{sz}')"
   ]
  },
  {
   "cell_type": "code",
   "execution_count": 80,
   "metadata": {},
   "outputs": [
    {
     "data": {
      "image/png": "[encoded data removed]",
      "text/plain": [
       "<matplotlib.figure.Figure at 0x7f8cd4188668>"
      ]
     },
     "metadata": {},
     "output_type": "display_data"
    }
   ],
   "source": [
    "learn.sched.plot_loss()"
   ]
  },
  {
   "cell_type": "code",
   "execution_count": 81,
   "metadata": {},
   "outputs": [],
   "source": [
    "sz = 128"
   ]
  },
  {
   "cell_type": "code",
   "execution_count": 82,
   "metadata": {},
   "outputs": [
    {
     "data": {
      "application/vnd.jupyter.widget-view+json": {
       "model_id": "4f3a0db0e1cd49808e4e72ec56186275",
       "version_major": 2,
       "version_minor": 0
      },
      "text/html": [
       "<p>Failed to display Jupyter Widget of type <code>HBox</code>.</p>\n",
       "<p>\n",
       "  If you're reading this message in the Jupyter Notebook or JupyterLab Notebook, it may mean\n",
       "  that the widgets JavaScript is still loading. If this message persists, it\n",
       "  likely means that the widgets JavaScript library is either not installed or\n",
       "  not enabled. See the <a href=\"https://ipywidgets.readthedocs.io/en/stable/user_install.html\">Jupyter\n",
       "  Widgets Documentation</a> for setup instructions.\n",
       "</p>\n",
       "<p>\n",
       "  If you're reading this message in another frontend (for example, a static\n",
       "  rendering on GitHub or <a href=\"https://nbviewer.jupyter.org/\">NBViewer</a>),\n",
       "  it may mean that your frontend doesn't currently support widgets.\n",
       "</p>\n"
      ],
      "text/plain": [
       "HBox(children=(IntProgress(value=0, description='Epoch', max=7), HTML(value='')))"
      ]
     },
     "metadata": {},
     "output_type": "display_data"
    },
    {
     "name": "stdout",
     "output_type": "stream",
     "text": [
      "epoch      trn_loss   val_loss   <lambda>                     \n",
      "    0      0.097939   0.097297   0.961697  \n",
      "    1      0.096049   0.096385   0.962017                     \n",
      "    2      0.09928    0.094914   0.962657                     \n",
      "    3      0.097967   0.094981   0.962635                     \n",
      "    4      0.094513   0.092911   0.963718                     \n",
      "    5      0.094668   0.093096   0.963689                     \n",
      "    6      0.094269   0.093008   0.963558                     \n",
      "\n"
     ]
    },
    {
     "data": {
      "text/plain": [
       "[array([ 0.09301]), 0.96355775077818651]"
      ]
     },
     "execution_count": 82,
     "metadata": {},
     "output_type": "execute_result"
    }
   ],
   "source": [
    "learn.set_data(get_data(sz))\n",
    "learn.freeze()\n",
    "learn.fit(lr, 3, cycle_len=1, cycle_mult=2)"
   ]
  },
  {
   "cell_type": "code",
   "execution_count": 90,
   "metadata": {},
   "outputs": [],
   "source": [
    "learn.save(f'{sz}')"
   ]
  },
  {
   "cell_type": "code",
   "execution_count": 91,
   "metadata": {},
   "outputs": [
    {
     "data": {
      "application/vnd.jupyter.widget-view+json": {
       "model_id": "21fdb8085b0d459fb2399ad71154efd9",
       "version_major": 2,
       "version_minor": 0
      },
      "text/html": [
       "<p>Failed to display Jupyter Widget of type <code>HBox</code>.</p>\n",
       "<p>\n",
       "  If you're reading this message in the Jupyter Notebook or JupyterLab Notebook, it may mean\n",
       "  that the widgets JavaScript is still loading. If this message persists, it\n",
       "  likely means that the widgets JavaScript library is either not installed or\n",
       "  not enabled. See the <a href=\"https://ipywidgets.readthedocs.io/en/stable/user_install.html\">Jupyter\n",
       "  Widgets Documentation</a> for setup instructions.\n",
       "</p>\n",
       "<p>\n",
       "  If you're reading this message in another frontend (for example, a static\n",
       "  rendering on GitHub or <a href=\"https://nbviewer.jupyter.org/\">NBViewer</a>),\n",
       "  it may mean that your frontend doesn't currently support widgets.\n",
       "</p>\n"
      ],
      "text/plain": [
       "HBox(children=(IntProgress(value=0, description='Epoch', max=7), HTML(value='')))"
      ]
     },
     "metadata": {},
     "output_type": "display_data"
    },
    {
     "name": "stdout",
     "output_type": "stream",
     "text": [
      "epoch      trn_loss   val_loss   <lambda>                     \n",
      "    0      0.092672   0.088525   0.965469  \n",
      "    1      0.094267   0.087628   0.965941                     \n",
      "    2      0.089218   0.08606    0.966719                     \n",
      "    3      0.092154   0.087549   0.965956                     \n",
      "    4      0.089878   0.086429   0.966007                     \n",
      "    5      0.085191   0.084922   0.967053                     \n",
      "    6      0.084662   0.085061   0.967206                     \n",
      "\n"
     ]
    }
   ],
   "source": [
    "learn.unfreeze()\n",
    "learn.fit(lrs,3,cycle_len=1,cycle_mult=2)\n",
    "learn.save(f'{sz}')"
   ]
  },
  {
   "cell_type": "code",
   "execution_count": 92,
   "metadata": {},
   "outputs": [
    {
     "data": {
      "application/vnd.jupyter.widget-view+json": {
       "model_id": "c47cb63bad0d41f49b0f505896fb5384",
       "version_major": 2,
       "version_minor": 0
      },
      "text/html": [
       "<p>Failed to display Jupyter Widget of type <code>HBox</code>.</p>\n",
       "<p>\n",
       "  If you're reading this message in the Jupyter Notebook or JupyterLab Notebook, it may mean\n",
       "  that the widgets JavaScript is still loading. If this message persists, it\n",
       "  likely means that the widgets JavaScript library is either not installed or\n",
       "  not enabled. See the <a href=\"https://ipywidgets.readthedocs.io/en/stable/user_install.html\">Jupyter\n",
       "  Widgets Documentation</a> for setup instructions.\n",
       "</p>\n",
       "<p>\n",
       "  If you're reading this message in another frontend (for example, a static\n",
       "  rendering on GitHub or <a href=\"https://nbviewer.jupyter.org/\">NBViewer</a>),\n",
       "  it may mean that your frontend doesn't currently support widgets.\n",
       "</p>\n"
      ],
      "text/plain": [
       "HBox(children=(IntProgress(value=0, description='Epoch', max=7), HTML(value='')))"
      ]
     },
     "metadata": {},
     "output_type": "display_data"
    },
    {
     "name": "stdout",
     "output_type": "stream",
     "text": [
      "epoch      trn_loss   val_loss   <lambda>                     \n",
      "    0      0.091884   0.089948   0.965026  \n",
      "    1      0.085819   0.088633   0.965331                     \n",
      "    2      0.090716   0.088801   0.965294                     \n",
      "    3      0.090805   0.0884     0.965469                     \n",
      "    4      0.089806   0.087959   0.965658                     \n",
      "    5      0.089891   0.08775    0.965701                     \n",
      "    6      0.087958   0.08744    0.965825                     \n",
      "\n"
     ]
    },
    {
     "data": {
      "application/vnd.jupyter.widget-view+json": {
       "model_id": "4f4e96711e924bd8aed4cd95c049d715",
       "version_major": 2,
       "version_minor": 0
      },
      "text/html": [
       "<p>Failed to display Jupyter Widget of type <code>HBox</code>.</p>\n",
       "<p>\n",
       "  If you're reading this message in the Jupyter Notebook or JupyterLab Notebook, it may mean\n",
       "  that the widgets JavaScript is still loading. If this message persists, it\n",
       "  likely means that the widgets JavaScript library is either not installed or\n",
       "  not enabled. See the <a href=\"https://ipywidgets.readthedocs.io/en/stable/user_install.html\">Jupyter\n",
       "  Widgets Documentation</a> for setup instructions.\n",
       "</p>\n",
       "<p>\n",
       "  If you're reading this message in another frontend (for example, a static\n",
       "  rendering on GitHub or <a href=\"https://nbviewer.jupyter.org/\">NBViewer</a>),\n",
       "  it may mean that your frontend doesn't currently support widgets.\n",
       "</p>\n"
      ],
      "text/plain": [
       "HBox(children=(IntProgress(value=0, description='Epoch', max=7), HTML(value='')))"
      ]
     },
     "metadata": {},
     "output_type": "display_data"
    },
    {
     "name": "stdout",
     "output_type": "stream",
     "text": [
      "epoch      trn_loss   val_loss   <lambda>                     \n",
      "    0      0.086447   0.083337   0.967431  \n",
      "    1      0.089298   0.083372   0.967525                     \n",
      "    2      0.082286   0.082087   0.96807                      \n",
      "    3      0.084681   0.084316   0.96682                      \n",
      "    4      0.08375    0.082335   0.967932                     \n",
      "    5      0.08058    0.081742   0.968092                     \n",
      "    6      0.08003    0.08148    0.968383                     \n",
      "\n"
     ]
    }
   ],
   "source": [
    "sz=256\n",
    "learn.set_data(get_data(sz))\n",
    "learn.freeze()\n",
    "learn.fit(lrs, 3, cycle_len=1, cycle_mult=2)\n",
    "\n",
    "learn.unfreeze()\n",
    "learn.fit(lrs, 3, cycle_len=1, cycle_mult=2)\n",
    "learn.save(f'{sz}')"
   ]
  },
  {
   "cell_type": "code",
   "execution_count": 28,
   "metadata": {},
   "outputs": [],
   "source": [
    "learn.load(f'256')"
   ]
  },
  {
   "cell_type": "code",
   "execution_count": 29,
   "metadata": {},
   "outputs": [
    {
     "name": "stdout",
     "output_type": "stream",
     "text": [
      "                                             \r"
     ]
    }
   ],
   "source": [
    "log_preds, y = learn.TTA(is_test = True)\n",
    "probs = np.mean(np.exp(log_preds),0)"
   ]
  },
  {
   "cell_type": "code",
   "execution_count": 30,
   "metadata": {},
   "outputs": [
    {
     "data": {
      "text/plain": [
       "(40669, 17)"
      ]
     },
     "execution_count": 30,
     "metadata": {},
     "output_type": "execute_result"
    }
   ],
   "source": [
    "probs.shape"
   ]
  },
  {
   "cell_type": "code",
   "execution_count": 31,
   "metadata": {},
   "outputs": [
    {
     "data": {
      "text/html": [
       "<div>\n",
       "<style scoped>\n",
       "    .dataframe tbody tr th:only-of-type {\n",
       "        vertical-align: middle;\n",
       "    }\n",
       "\n",
       "    .dataframe tbody tr th {\n",
       "        vertical-align: top;\n",
       "    }\n",
       "\n",
       "    .dataframe thead th {\n",
       "        text-align: right;\n",
       "    }\n",
       "</style>\n",
       "<table border=\"1\" class=\"dataframe\">\n",
       "  <thead>\n",
       "    <tr style=\"text-align: right;\">\n",
       "      <th></th>\n",
       "      <th>0</th>\n",
       "      <th>1</th>\n",
       "      <th>2</th>\n",
       "      <th>3</th>\n",
       "      <th>4</th>\n",
       "      <th>5</th>\n",
       "      <th>6</th>\n",
       "      <th>7</th>\n",
       "      <th>8</th>\n",
       "      <th>9</th>\n",
       "      <th>10</th>\n",
       "      <th>11</th>\n",
       "      <th>12</th>\n",
       "      <th>13</th>\n",
       "      <th>14</th>\n",
       "      <th>15</th>\n",
       "      <th>16</th>\n",
       "    </tr>\n",
       "  </thead>\n",
       "  <tbody>\n",
       "    <tr>\n",
       "      <th>0</th>\n",
       "      <td>1.921674</td>\n",
       "      <td>1.001157</td>\n",
       "      <td>1.013771</td>\n",
       "      <td>1.000902</td>\n",
       "      <td>1.000261</td>\n",
       "      <td>2.637427</td>\n",
       "      <td>1.000021</td>\n",
       "      <td>1.000220</td>\n",
       "      <td>1.267462</td>\n",
       "      <td>2.686334</td>\n",
       "      <td>1.010363</td>\n",
       "      <td>1.002757</td>\n",
       "      <td>2.707335</td>\n",
       "      <td>1.390704</td>\n",
       "      <td>1.000339</td>\n",
       "      <td>1.003473</td>\n",
       "      <td>1.599331</td>\n",
       "    </tr>\n",
       "    <tr>\n",
       "      <th>1</th>\n",
       "      <td>1.020679</td>\n",
       "      <td>1.000065</td>\n",
       "      <td>1.002458</td>\n",
       "      <td>1.071095</td>\n",
       "      <td>1.001479</td>\n",
       "      <td>2.700511</td>\n",
       "      <td>1.000045</td>\n",
       "      <td>1.000413</td>\n",
       "      <td>1.028295</td>\n",
       "      <td>1.017609</td>\n",
       "      <td>1.002768</td>\n",
       "      <td>1.001732</td>\n",
       "      <td>2.717532</td>\n",
       "      <td>1.005179</td>\n",
       "      <td>1.017221</td>\n",
       "      <td>1.001291</td>\n",
       "      <td>1.017783</td>\n",
       "    </tr>\n",
       "    <tr>\n",
       "      <th>2</th>\n",
       "      <td>1.722181</td>\n",
       "      <td>1.000007</td>\n",
       "      <td>1.001341</td>\n",
       "      <td>1.000016</td>\n",
       "      <td>1.000003</td>\n",
       "      <td>2.694528</td>\n",
       "      <td>1.000002</td>\n",
       "      <td>1.000009</td>\n",
       "      <td>1.013944</td>\n",
       "      <td>1.000515</td>\n",
       "      <td>1.004206</td>\n",
       "      <td>1.000206</td>\n",
       "      <td>2.717944</td>\n",
       "      <td>1.050113</td>\n",
       "      <td>1.000006</td>\n",
       "      <td>1.000074</td>\n",
       "      <td>2.557044</td>\n",
       "    </tr>\n",
       "    <tr>\n",
       "      <th>3</th>\n",
       "      <td>1.101078</td>\n",
       "      <td>1.011389</td>\n",
       "      <td>1.025414</td>\n",
       "      <td>1.000096</td>\n",
       "      <td>1.000001</td>\n",
       "      <td>2.718192</td>\n",
       "      <td>1.000000</td>\n",
       "      <td>1.000459</td>\n",
       "      <td>1.006265</td>\n",
       "      <td>1.199517</td>\n",
       "      <td>1.000316</td>\n",
       "      <td>1.000000</td>\n",
       "      <td>2.715693</td>\n",
       "      <td>1.167978</td>\n",
       "      <td>1.000023</td>\n",
       "      <td>1.000193</td>\n",
       "      <td>2.718272</td>\n",
       "    </tr>\n",
       "    <tr>\n",
       "      <th>4</th>\n",
       "      <td>1.000399</td>\n",
       "      <td>1.000016</td>\n",
       "      <td>1.000006</td>\n",
       "      <td>1.000038</td>\n",
       "      <td>1.000026</td>\n",
       "      <td>1.000325</td>\n",
       "      <td>1.733075</td>\n",
       "      <td>1.000027</td>\n",
       "      <td>1.000054</td>\n",
       "      <td>1.000055</td>\n",
       "      <td>1.429699</td>\n",
       "      <td>1.197157</td>\n",
       "      <td>1.575043</td>\n",
       "      <td>1.000058</td>\n",
       "      <td>1.000011</td>\n",
       "      <td>1.000008</td>\n",
       "      <td>1.000554</td>\n",
       "    </tr>\n",
       "  </tbody>\n",
       "</table>\n",
       "</div>"
      ],
      "text/plain": [
       "         0         1         2         3         4         5         6   \\\n",
       "0  1.921674  1.001157  1.013771  1.000902  1.000261  2.637427  1.000021   \n",
       "1  1.020679  1.000065  1.002458  1.071095  1.001479  2.700511  1.000045   \n",
       "2  1.722181  1.000007  1.001341  1.000016  1.000003  2.694528  1.000002   \n",
       "3  1.101078  1.011389  1.025414  1.000096  1.000001  2.718192  1.000000   \n",
       "4  1.000399  1.000016  1.000006  1.000038  1.000026  1.000325  1.733075   \n",
       "\n",
       "         7         8         9         10        11        12        13  \\\n",
       "0  1.000220  1.267462  2.686334  1.010363  1.002757  2.707335  1.390704   \n",
       "1  1.000413  1.028295  1.017609  1.002768  1.001732  2.717532  1.005179   \n",
       "2  1.000009  1.013944  1.000515  1.004206  1.000206  2.717944  1.050113   \n",
       "3  1.000459  1.006265  1.199517  1.000316  1.000000  2.715693  1.167978   \n",
       "4  1.000027  1.000054  1.000055  1.429699  1.197157  1.575043  1.000058   \n",
       "\n",
       "         14        15        16  \n",
       "0  1.000339  1.003473  1.599331  \n",
       "1  1.017221  1.001291  1.017783  \n",
       "2  1.000006  1.000074  2.557044  \n",
       "3  1.000023  1.000193  2.718272  \n",
       "4  1.000011  1.000008  1.000554  "
      ]
     },
     "execution_count": 31,
     "metadata": {},
     "output_type": "execute_result"
    }
   ],
   "source": [
    "df=pd.DataFrame(probs)\n",
    "df.head()"
   ]
  },
  {
   "cell_type": "code",
   "execution_count": 36,
   "metadata": {},
   "outputs": [
    {
     "data": {
      "text/plain": [
       "['agriculture',\n",
       " 'artisinal_mine',\n",
       " 'bare_ground',\n",
       " 'blooming',\n",
       " 'blow_down',\n",
       " 'clear',\n",
       " 'cloudy',\n",
       " 'conventional_mine',\n",
       " 'cultivation',\n",
       " 'habitation',\n",
       " 'haze',\n",
       " 'partly_cloudy',\n",
       " 'primary',\n",
       " 'road',\n",
       " 'selective_logging',\n",
       " 'slash_burn',\n",
       " 'water']"
      ]
     },
     "execution_count": 36,
     "metadata": {},
     "output_type": "execute_result"
    }
   ],
   "source": [
    "data.classes"
   ]
  },
  {
   "cell_type": "code",
   "execution_count": 39,
   "metadata": {},
   "outputs": [
    {
     "data": {
      "text/html": [
       "<div>\n",
       "<style scoped>\n",
       "    .dataframe tbody tr th:only-of-type {\n",
       "        vertical-align: middle;\n",
       "    }\n",
       "\n",
       "    .dataframe tbody tr th {\n",
       "        vertical-align: top;\n",
       "    }\n",
       "\n",
       "    .dataframe thead th {\n",
       "        text-align: right;\n",
       "    }\n",
       "</style>\n",
       "<table border=\"1\" class=\"dataframe\">\n",
       "  <thead>\n",
       "    <tr style=\"text-align: right;\">\n",
       "      <th></th>\n",
       "      <th>agriculture</th>\n",
       "      <th>artisinal_mine</th>\n",
       "      <th>bare_ground</th>\n",
       "      <th>blooming</th>\n",
       "      <th>blow_down</th>\n",
       "      <th>clear</th>\n",
       "      <th>cloudy</th>\n",
       "      <th>conventional_mine</th>\n",
       "      <th>cultivation</th>\n",
       "      <th>habitation</th>\n",
       "      <th>haze</th>\n",
       "      <th>partly_cloudy</th>\n",
       "      <th>primary</th>\n",
       "      <th>road</th>\n",
       "      <th>selective_logging</th>\n",
       "      <th>slash_burn</th>\n",
       "      <th>water</th>\n",
       "    </tr>\n",
       "  </thead>\n",
       "  <tbody>\n",
       "    <tr>\n",
       "      <th>0</th>\n",
       "      <td>1.921674</td>\n",
       "      <td>1.001157</td>\n",
       "      <td>1.013771</td>\n",
       "      <td>1.000902</td>\n",
       "      <td>1.000261</td>\n",
       "      <td>2.637427</td>\n",
       "      <td>1.000021</td>\n",
       "      <td>1.000220</td>\n",
       "      <td>1.267462</td>\n",
       "      <td>2.686334</td>\n",
       "      <td>1.010363</td>\n",
       "      <td>1.002757</td>\n",
       "      <td>2.707335</td>\n",
       "      <td>1.390704</td>\n",
       "      <td>1.000339</td>\n",
       "      <td>1.003473</td>\n",
       "      <td>1.599331</td>\n",
       "    </tr>\n",
       "    <tr>\n",
       "      <th>1</th>\n",
       "      <td>1.020679</td>\n",
       "      <td>1.000065</td>\n",
       "      <td>1.002458</td>\n",
       "      <td>1.071095</td>\n",
       "      <td>1.001479</td>\n",
       "      <td>2.700511</td>\n",
       "      <td>1.000045</td>\n",
       "      <td>1.000413</td>\n",
       "      <td>1.028295</td>\n",
       "      <td>1.017609</td>\n",
       "      <td>1.002768</td>\n",
       "      <td>1.001732</td>\n",
       "      <td>2.717532</td>\n",
       "      <td>1.005179</td>\n",
       "      <td>1.017221</td>\n",
       "      <td>1.001291</td>\n",
       "      <td>1.017783</td>\n",
       "    </tr>\n",
       "    <tr>\n",
       "      <th>2</th>\n",
       "      <td>1.722181</td>\n",
       "      <td>1.000007</td>\n",
       "      <td>1.001341</td>\n",
       "      <td>1.000016</td>\n",
       "      <td>1.000003</td>\n",
       "      <td>2.694528</td>\n",
       "      <td>1.000002</td>\n",
       "      <td>1.000009</td>\n",
       "      <td>1.013944</td>\n",
       "      <td>1.000515</td>\n",
       "      <td>1.004206</td>\n",
       "      <td>1.000206</td>\n",
       "      <td>2.717944</td>\n",
       "      <td>1.050113</td>\n",
       "      <td>1.000006</td>\n",
       "      <td>1.000074</td>\n",
       "      <td>2.557044</td>\n",
       "    </tr>\n",
       "    <tr>\n",
       "      <th>3</th>\n",
       "      <td>1.101078</td>\n",
       "      <td>1.011389</td>\n",
       "      <td>1.025414</td>\n",
       "      <td>1.000096</td>\n",
       "      <td>1.000001</td>\n",
       "      <td>2.718192</td>\n",
       "      <td>1.000000</td>\n",
       "      <td>1.000459</td>\n",
       "      <td>1.006265</td>\n",
       "      <td>1.199517</td>\n",
       "      <td>1.000316</td>\n",
       "      <td>1.000000</td>\n",
       "      <td>2.715693</td>\n",
       "      <td>1.167978</td>\n",
       "      <td>1.000023</td>\n",
       "      <td>1.000193</td>\n",
       "      <td>2.718272</td>\n",
       "    </tr>\n",
       "    <tr>\n",
       "      <th>4</th>\n",
       "      <td>1.000399</td>\n",
       "      <td>1.000016</td>\n",
       "      <td>1.000006</td>\n",
       "      <td>1.000038</td>\n",
       "      <td>1.000026</td>\n",
       "      <td>1.000325</td>\n",
       "      <td>1.733075</td>\n",
       "      <td>1.000027</td>\n",
       "      <td>1.000054</td>\n",
       "      <td>1.000055</td>\n",
       "      <td>1.429699</td>\n",
       "      <td>1.197157</td>\n",
       "      <td>1.575043</td>\n",
       "      <td>1.000058</td>\n",
       "      <td>1.000011</td>\n",
       "      <td>1.000008</td>\n",
       "      <td>1.000554</td>\n",
       "    </tr>\n",
       "  </tbody>\n",
       "</table>\n",
       "</div>"
      ],
      "text/plain": [
       "   agriculture  artisinal_mine  bare_ground  blooming  blow_down     clear  \\\n",
       "0     1.921674        1.001157     1.013771  1.000902   1.000261  2.637427   \n",
       "1     1.020679        1.000065     1.002458  1.071095   1.001479  2.700511   \n",
       "2     1.722181        1.000007     1.001341  1.000016   1.000003  2.694528   \n",
       "3     1.101078        1.011389     1.025414  1.000096   1.000001  2.718192   \n",
       "4     1.000399        1.000016     1.000006  1.000038   1.000026  1.000325   \n",
       "\n",
       "     cloudy  conventional_mine  cultivation  habitation      haze  \\\n",
       "0  1.000021           1.000220     1.267462    2.686334  1.010363   \n",
       "1  1.000045           1.000413     1.028295    1.017609  1.002768   \n",
       "2  1.000002           1.000009     1.013944    1.000515  1.004206   \n",
       "3  1.000000           1.000459     1.006265    1.199517  1.000316   \n",
       "4  1.733075           1.000027     1.000054    1.000055  1.429699   \n",
       "\n",
       "   partly_cloudy   primary      road  selective_logging  slash_burn     water  \n",
       "0       1.002757  2.707335  1.390704           1.000339    1.003473  1.599331  \n",
       "1       1.001732  2.717532  1.005179           1.017221    1.001291  1.017783  \n",
       "2       1.000206  2.717944  1.050113           1.000006    1.000074  2.557044  \n",
       "3       1.000000  2.715693  1.167978           1.000023    1.000193  2.718272  \n",
       "4       1.197157  1.575043  1.000058           1.000011    1.000008  1.000554  "
      ]
     },
     "execution_count": 39,
     "metadata": {},
     "output_type": "execute_result"
    }
   ],
   "source": [
    "df.columns = data.classes\n",
    "df.head()"
   ]
  },
  {
   "cell_type": "code",
   "execution_count": null,
   "metadata": {},
   "outputs": [],
   "source": []
  }
 ],
 "metadata": {
  "kernelspec": {
   "display_name": "Python 3",
   "language": "python",
   "name": "python3"
  },
  "language_info": {
   "codemirror_mode": {
    "name": "ipython",
    "version": 3
   },
   "file_extension": ".py",
   "mimetype": "text/x-python",
   "name": "python",
   "nbconvert_exporter": "python",
   "pygments_lexer": "ipython3",
   "version": "3.6.4"
  }
 },
 "nbformat": 4,
 "nbformat_minor": 2
}
